{
 "cells": [
  {
   "cell_type": "code",
   "execution_count": 1,
   "metadata": {
    "slideshow": {
     "slide_type": "skip"
    }
   },
   "outputs": [],
   "source": [
    "using HTTP, Joseki"
   ]
  },
  {
   "cell_type": "markdown",
   "metadata": {
    "slideshow": {
     "slide_type": "slide"
    }
   },
   "source": [
    "# Showcasing Julia on the Web\n",
    "\n",
    "\n",
    "*Alex Mellnik*\n",
    "\n",
    "\n"
   ]
  },
  {
   "cell_type": "markdown",
   "metadata": {
    "slideshow": {
     "slide_type": "slide"
    }
   },
   "source": [
    "## So you have a fabulous new package\n",
    "\n",
    "How can you show it off and attract more users?  There's lots of options including:"
   ]
  },
  {
   "cell_type": "markdown",
   "metadata": {
    "slideshow": {
     "slide_type": "fragment"
    }
   },
   "source": [
    "* A great Readme.md"
   ]
  },
  {
   "cell_type": "markdown",
   "metadata": {
    "slideshow": {
     "slide_type": "fragment"
    }
   },
   "source": [
    "* JuliaCon"
   ]
  },
  {
   "cell_type": "markdown",
   "metadata": {
    "slideshow": {
     "slide_type": "fragment"
    }
   },
   "source": [
    "* Blog posts "
   ]
  },
  {
   "cell_type": "markdown",
   "metadata": {
    "slideshow": {
     "slide_type": "fragment"
    }
   },
   "source": [
    "* Hacker News"
   ]
  },
  {
   "cell_type": "markdown",
   "metadata": {
    "slideshow": {
     "slide_type": "subslide"
    }
   },
   "source": [
    "Some potential users will take the time to install and try out your package.."
   ]
  },
  {
   "cell_type": "markdown",
   "metadata": {
    "slideshow": {
     "slide_type": "fragment"
    }
   },
   "source": [
    "...but this can be a steep barrier, especially if your package is tricky to set up or complicated to use.  "
   ]
  },
  {
   "cell_type": "markdown",
   "metadata": {
    "slideshow": {
     "slide_type": "subslide"
    }
   },
   "source": [
    "If that's the case, consider creating an interactive, web-based demo so that users can start interacting with the code immediately.  "
   ]
  },
  {
   "cell_type": "markdown",
   "metadata": {
    "slideshow": {
     "slide_type": "slide"
    }
   },
   "source": [
    "## A case study: DifferentialEquations.jl\n",
    "\n",
    "In December 2016, Chris Rackauckas [was looking](https://discourse.julialang.org/t/hosting-web-apps-in-julia/1063) for a way to demo new functionality for the DifferentialEquations.jl ecosystem provided by ParameterizedFunctions.jl"
   ]
  },
  {
   "cell_type": "markdown",
   "metadata": {
    "slideshow": {
     "slide_type": "slide"
    }
   },
   "source": [
    "## What's the best way to build it?\n",
    "\n",
    "* Full-stack options like Genie.jl (and previously Escher.jl) \n",
    "\n",
    "* Dashboard design tools like Dash & Shiny (but no strong options for Julia)\n",
    "\n",
    "* Notebook hosting via JupyterBox or Binder"
   ]
  },
  {
   "cell_type": "markdown",
   "metadata": {
    "slideshow": {
     "slide_type": "fragment"
    }
   },
   "source": [
    "* Create an API in Julia and use standard web tools to build the front end.   "
   ]
  },
  {
   "cell_type": "markdown",
   "metadata": {
    "slideshow": {
     "slide_type": "slide"
    }
   },
   "source": [
    "## How it works: two easy steps\n",
    "\n",
    "### The API\n",
    "\n",
    "Creating a Julia API only took [150 lines of code](https://github.com/JuliaDiffEq/DiffEqOnlineServer/blob/master/api/mux_server.jl) thanks to Mux.jl\n",
    "\n",
    "Most of the complexity is related to sanitizing user inputs and plotting."
   ]
  },
  {
   "cell_type": "markdown",
   "metadata": {
    "slideshow": {
     "slide_type": "fragment"
    }
   },
   "source": [
    "### The front end\n",
    "\n",
    "We used Angular, but React, Vue or even vanilla JS also works.  It's not in Julia, but there's lots of resources for getting started."
   ]
  },
  {
   "cell_type": "markdown",
   "metadata": {
    "slideshow": {
     "slide_type": "slide"
    }
   },
   "source": [
    "## It turns out this works pretty well\n",
    "\n",
    "[DifferentialEquations.jl Online](http://app.juliadiffeq.org/ode;settings=eyJkaWZmRXFUZXh0IjoiZHggPSBzKih5LXgpXG5keSA9IHgqKHIteikgLSB5XG5keiA9IHgqeSAtIGIqeiIsInBhcmFtZXRlcnMiOiJzPT4xMC4wLCByPT4yOC4wLCBiPT4yLjY2IiwidGltZVNwYW4iOlswLDUwXSwiaW5pdGlhbENvbmRpdGlvbnMiOiIxLCAxLCAxIiwic29sdmVyIjoiVHNpdDUgIiwidmFycyI6Iig6eCwgOnksIDp6KSIsInRpdGxlIjoiVGhlIExvcmVueiBFcXVhdGlvbnMifQ%3D%3D) has been up and running for more than a year."
   ]
  },
  {
   "cell_type": "markdown",
   "metadata": {
    "slideshow": {
     "slide_type": "slide"
    }
   },
   "source": [
    "## Two other demos\n",
    "\n",
    "* [Julia2JS](http://julia2js.gotfork.net): Converting Julia to JS/WebAssembly via ExportWebassembly.jl or Charlotte.jl\n",
    "* [FluxJS-demos](http://fluxjs-demos.gotfork.net): Flux models on the web (front end only)"
   ]
  },
  {
   "cell_type": "markdown",
   "metadata": {
    "slideshow": {
     "slide_type": "slide"
    }
   },
   "source": [
    "## If you want to brew your own\n",
    "\n",
    "There's a few leading candidates for API construction"
   ]
  },
  {
   "cell_type": "markdown",
   "metadata": {
    "slideshow": {
     "slide_type": "fragment"
    }
   },
   "source": [
    "* Mux.jl "
   ]
  },
  {
   "cell_type": "markdown",
   "metadata": {
    "slideshow": {
     "slide_type": "fragment"
    }
   },
   "source": [
    "* JuliaWebAPI.jl"
   ]
  },
  {
   "cell_type": "markdown",
   "metadata": {
    "slideshow": {
     "slide_type": "fragment"
    }
   },
   "source": [
    "* Bukdu.jl"
   ]
  },
  {
   "cell_type": "markdown",
   "metadata": {
    "slideshow": {
     "slide_type": "fragment"
    }
   },
   "source": [
    "* HTTP.jl directly (or close to it)"
   ]
  },
  {
   "cell_type": "markdown",
   "metadata": {
    "slideshow": {
     "slide_type": "slide"
    }
   },
   "source": [
    "## A quick example\n"
   ]
  },
  {
   "cell_type": "code",
   "execution_count": 9,
   "metadata": {
    "slideshow": {
     "slide_type": "subslide"
    }
   },
   "outputs": [
    {
     "data": {
      "text/plain": [
       "pow (generic function with 1 method)"
      ]
     },
     "execution_count": 9,
     "metadata": {},
     "output_type": "execute_result"
    }
   ],
   "source": [
    "using HTTP, Joseki\n",
    "function pow(req::HTTP.Request)\n",
    "    j = HTTP.queryparams(HTTP.URI(req.target))\n",
    "    if !(haskey(j, \"x\") & haskey(j, \"y\"))\n",
    "        return error_responder(req, \"You need to specify values for x and y!\")\n",
    "    end\n",
    "    # Try to parse the values as numbers.  If there's an error here the generic\n",
    "    # error handler will deal with it.\n",
    "    x = parse(Float32, j[\"x\"])\n",
    "    y = parse(Float32, j[\"y\"])\n",
    "    json_responder(req, x^y)\n",
    "end"
   ]
  },
  {
   "cell_type": "code",
   "execution_count": 10,
   "metadata": {
    "slideshow": {
     "slide_type": "subslide"
    }
   },
   "outputs": [
    {
     "data": {
      "text/plain": [
       "Task (queued) @0x00007f34b93d71f0"
      ]
     },
     "execution_count": 10,
     "metadata": {},
     "output_type": "execute_result"
    },
    {
     "name": "stdout",
     "output_type": "stream",
     "text": [
      "I- Listening on: Base.InetAddr{IPv4}(ip\"0.0.0.0\", 0x1f40)\n"
     ]
    }
   ],
   "source": [
    "endpoints = [\n",
    "    (pow, \"GET\", \"/pow\"),\n",
    "]\n",
    "s = Joseki.server(endpoints)\n",
    "\n",
    "@async HTTP.serve(s, ip\"0.0.0.0\", 8000; verbose=false)"
   ]
  },
  {
   "cell_type": "code",
   "execution_count": 11,
   "metadata": {
    "slideshow": {
     "slide_type": "fragment"
    }
   },
   "outputs": [
    {
     "data": {
      "text/plain": [
       "HTTP.Messages.Response:\n",
       "\"\"\"\n",
       "HTTP/1.1 200 OK\r\n",
       "Access-Control-Allow-Origin: \r\n",
       "Access-Control-Allow-Methods: GET,PUT,POST,DELETE,PATCH,OPTIONS\r\n",
       "Content-Type: application/json; charset=utf-8\r\n",
       "Transfer-Encoding: chunked\r\n",
       "\r\n",
       "{\"error\": false, \"result\": 8.0}\"\"\""
      ]
     },
     "execution_count": 11,
     "metadata": {},
     "output_type": "execute_result"
    },
    {
     "name": "stdout",
     "output_type": "stream",
     "text": [
      "GET request to: /pow/?x=2&y=3 at 2018-08-02T22:00:48.12\n",
      "\n"
     ]
    }
   ],
   "source": [
    "HTTP.get(\"http://localhost:8000/pow/?x=2&y=3\")"
   ]
  },
  {
   "cell_type": "code",
   "execution_count": 2,
   "metadata": {
    "slideshow": {
     "slide_type": "skip"
    }
   },
   "outputs": [
    {
     "ename": "LoadError",
     "evalue": "\u001b[91mUndefVarError: s not defined\u001b[39m",
     "output_type": "error",
     "traceback": [
      "\u001b[91mUndefVarError: s not defined\u001b[39m",
      ""
     ]
    }
   ],
   "source": [
    "put!(s.in, HTTP.Servers.KILL)"
   ]
  },
  {
   "cell_type": "markdown",
   "metadata": {
    "slideshow": {
     "slide_type": "slide"
    }
   },
   "source": [
    "### Thanks!\n",
    "\n",
    "#### Any questions?\n",
    "\n",
    "PS: Rigetti builds quantum computers and is hiring computational scientists, physicists and engineers!  We ♡ Julia and use it every day.  \n",
    "\n",
    "![Puck image](puck small.jpg)"
   ]
  },
  {
   "cell_type": "code",
   "execution_count": null,
   "metadata": {},
   "outputs": [],
   "source": []
  }
 ],
 "metadata": {
  "celltoolbar": "Slideshow",
  "kernelspec": {
   "display_name": "Julia 0.6.4",
   "language": "julia",
   "name": "julia-0.6"
  },
  "language_info": {
   "file_extension": ".jl",
   "mimetype": "application/julia",
   "name": "julia",
   "version": "0.6.4"
  }
 },
 "nbformat": 4,
 "nbformat_minor": 2
}
